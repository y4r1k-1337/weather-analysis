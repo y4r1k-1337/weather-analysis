{
 "cells": [
  {
   "cell_type": "markdown",
   "id": "9fd4b0c9-064d-4059-9848-dfd62bc7f691",
   "metadata": {},
   "source": [
    "# Проект по демонстрации машинного обучения на данных о погоде"
   ]
  },
  {
   "cell_type": "markdown",
   "id": "a6ffde8a-32cf-4a8d-8adc-222d3ea9b57b",
   "metadata": {},
   "source": [
    "## Импорт библиотек"
   ]
  },
  {
   "cell_type": "code",
   "execution_count": 1,
   "id": "6e34bb38-951a-4779-9c0c-70fa9fcf3c44",
   "metadata": {},
   "outputs": [],
   "source": [
    "import pandas as pd\n",
    "from sklearn.model_selection import train_test_split\n",
    "from sklearn.ensemble import RandomForestRegressor\n",
    "from sklearn.metrics import mean_squared_error, r2_score\n",
    "import requests\n",
    "import re"
   ]
  },
  {
   "cell_type": "markdown",
   "id": "9fe8123f-2bb1-44e3-a6f8-358b21f03623",
   "metadata": {},
   "source": [
    "## Ссылка, URL-адрес и query-параметры"
   ]
  },
  {
   "cell_type": "code",
   "execution_count": 2,
   "id": "bf5a2090-90d2-4cfd-a568-c45ef5bf2720",
   "metadata": {},
   "outputs": [],
   "source": [
    "base_url = \"https://archive-api.open-meteo.com/v1/archive\"\n",
    "\n",
    "latitude = 56.2\n",
    "longitude = 44\n",
    "start_date = '2020-01-01'\n",
    "end_date = '2025-09-01'\n",
    "timezone='Europe%2FMoscow'\n",
    "\n",
    "params = ['temperature_2m', 'relative_humidity_2m', 'dew_point_2m', 'apparent_temperature',\n",
    "        'precipitation', 'rain', 'snowfall', 'snow_depth', 'surface_pressure', 'pressure_msl',\n",
    "        'cloud_cover', 'wind_speed_10m', 'wind_gusts_10m', 'wind_direction_10m',\n",
    "        'soil_temperature_0_to_7cm', 'soil_moisture_0_to_7cm', 'is_day', 'sunshine_duration']"
   ]
  },
  {
   "cell_type": "markdown",
   "id": "2a78d26e-5482-4dbf-aec0-10d090321f3d",
   "metadata": {},
   "source": [
    "## Получение набора метеоданных с Open-Meteo"
   ]
  },
  {
   "cell_type": "code",
   "execution_count": 3,
   "id": "993485f1-495b-43f4-abad-e79a99eb59e5",
   "metadata": {},
   "outputs": [],
   "source": [
    "def get_weather_data(latitude, longitude, start_date, end_date, hourly_params, timezone):\n",
    "    hourly_params_str = re.sub(' ', ',', ' '.join(hourly_params))\n",
    "    URL = base_url + f'?latitude={latitude}&longitude={longitude}&start_date={start_date}&end_date={end_date}&hourly={hourly_params_str}&timezone={timezone}&timeformat=unixtime'\n",
    "    response = requests.get(URL)\n",
    "    return pd.DataFrame(response.json()[\"hourly\"]) #Данные за каждый час измерений"
   ]
  },
  {
   "cell_type": "markdown",
   "id": "3cdee155-8b21-4a4d-bd03-0904c7a4b040",
   "metadata": {},
   "source": [
    "## Разделение набора на выборки по ключу (названию столбца в таблице)"
   ]
  },
  {
   "cell_type": "code",
   "execution_count": 4,
   "id": "806a19ef-1141-4d74-a891-8dd35929b287",
   "metadata": {},
   "outputs": [],
   "source": [
    "def split_by_key(data, key):\n",
    "    X = data.drop(key, axis=1)  #На основе этих данных программа выполняет расчеты\n",
    "    y = data[key]               #Данные, которые должна выдать программа\n",
    "    #Создаём выборки для обучения и проверки регрессора (модели машинного обучения для расчетов)\n",
    "    X_train, X_test, y_train, y_test = train_test_split(X, y, test_size=0.25, random_state=128)\n",
    "    return X_train, X_test, y_train, y_test"
   ]
  },
  {
   "cell_type": "markdown",
   "id": "8cf666ff-82fb-41a6-9ccc-c7e20da6e9b9",
   "metadata": {},
   "source": [
    "## Обучение и расчеты по выборкам."
   ]
  },
  {
   "cell_type": "code",
   "execution_count": 5,
   "id": "f0c4915a-149a-4a16-ad5f-8f5f0d86476b",
   "metadata": {},
   "outputs": [],
   "source": [
    "def train_and_predict(predictor, X_train, X_test, y_train, y_test):\n",
    "    #Для массивов хаотичных данных, таких как погодные параметры, модель случайного леса подходит лучше линейных моделей\n",
    "    predictor.fit(X_train, y_train) #Обучение\n",
    "    result = predictor.predict(X_test) #Рассчитывается результат\n",
    "    return {\"result\":result, \"r2_score\":r2_score(y_test, result), \"mean_squared_error\":mean_squared_error(y_test, result)}\n",
    "\n",
    "#модель случайного леса\n",
    "predictor = RandomForestRegressor(random_state=12)"
   ]
  },
  {
   "cell_type": "markdown",
   "id": "bf6520c8-0987-43ae-a178-cf0f71900fec",
   "metadata": {},
   "source": [
    "## Расчет температуры"
   ]
  },
  {
   "cell_type": "code",
   "execution_count": 6,
   "id": "d42ac19f-194f-4e21-99b1-8b19eda9d8e6",
   "metadata": {},
   "outputs": [],
   "source": [
    "data = get_weather_data(latitude, longitude, start_date, end_date, params, timezone)"
   ]
  },
  {
   "cell_type": "code",
   "execution_count": 7,
   "id": "bfcc79bb-af15-4200-ae21-fc7694cba9e9",
   "metadata": {},
   "outputs": [
    {
     "data": {
      "text/html": [
       "<div>\n",
       "<style scoped>\n",
       "    .dataframe tbody tr th:only-of-type {\n",
       "        vertical-align: middle;\n",
       "    }\n",
       "\n",
       "    .dataframe tbody tr th {\n",
       "        vertical-align: top;\n",
       "    }\n",
       "\n",
       "    .dataframe thead th {\n",
       "        text-align: right;\n",
       "    }\n",
       "</style>\n",
       "<table border=\"1\" class=\"dataframe\">\n",
       "  <thead>\n",
       "    <tr style=\"text-align: right;\">\n",
       "      <th></th>\n",
       "      <th>time</th>\n",
       "      <th>temperature_2m</th>\n",
       "      <th>relative_humidity_2m</th>\n",
       "      <th>dew_point_2m</th>\n",
       "      <th>apparent_temperature</th>\n",
       "      <th>precipitation</th>\n",
       "      <th>rain</th>\n",
       "      <th>snowfall</th>\n",
       "      <th>snow_depth</th>\n",
       "      <th>surface_pressure</th>\n",
       "      <th>pressure_msl</th>\n",
       "      <th>cloud_cover</th>\n",
       "      <th>wind_speed_10m</th>\n",
       "      <th>wind_gusts_10m</th>\n",
       "      <th>wind_direction_10m</th>\n",
       "      <th>soil_temperature_0_to_7cm</th>\n",
       "      <th>soil_moisture_0_to_7cm</th>\n",
       "      <th>is_day</th>\n",
       "      <th>sunshine_duration</th>\n",
       "    </tr>\n",
       "  </thead>\n",
       "  <tbody>\n",
       "    <tr>\n",
       "      <th>0</th>\n",
       "      <td>1577826000</td>\n",
       "      <td>-0.6</td>\n",
       "      <td>95</td>\n",
       "      <td>-1.3</td>\n",
       "      <td>-5.2</td>\n",
       "      <td>0.1</td>\n",
       "      <td>0.0</td>\n",
       "      <td>0.07</td>\n",
       "      <td>0.1</td>\n",
       "      <td>971.4</td>\n",
       "      <td>991.9</td>\n",
       "      <td>99</td>\n",
       "      <td>15.5</td>\n",
       "      <td>29.5</td>\n",
       "      <td>234</td>\n",
       "      <td>-2.2</td>\n",
       "      <td>0.374</td>\n",
       "      <td>0</td>\n",
       "      <td>0.0</td>\n",
       "    </tr>\n",
       "    <tr>\n",
       "      <th>1</th>\n",
       "      <td>1577829600</td>\n",
       "      <td>-0.8</td>\n",
       "      <td>95</td>\n",
       "      <td>-1.4</td>\n",
       "      <td>-5.2</td>\n",
       "      <td>0.3</td>\n",
       "      <td>0.0</td>\n",
       "      <td>0.21</td>\n",
       "      <td>0.1</td>\n",
       "      <td>971.6</td>\n",
       "      <td>992.1</td>\n",
       "      <td>97</td>\n",
       "      <td>14.5</td>\n",
       "      <td>28.8</td>\n",
       "      <td>235</td>\n",
       "      <td>-2.2</td>\n",
       "      <td>0.374</td>\n",
       "      <td>0</td>\n",
       "      <td>0.0</td>\n",
       "    </tr>\n",
       "    <tr>\n",
       "      <th>2</th>\n",
       "      <td>1577833200</td>\n",
       "      <td>-1.0</td>\n",
       "      <td>96</td>\n",
       "      <td>-1.6</td>\n",
       "      <td>-5.1</td>\n",
       "      <td>0.3</td>\n",
       "      <td>0.0</td>\n",
       "      <td>0.21</td>\n",
       "      <td>0.1</td>\n",
       "      <td>971.7</td>\n",
       "      <td>992.2</td>\n",
       "      <td>96</td>\n",
       "      <td>12.1</td>\n",
       "      <td>27.0</td>\n",
       "      <td>233</td>\n",
       "      <td>-2.2</td>\n",
       "      <td>0.374</td>\n",
       "      <td>0</td>\n",
       "      <td>0.0</td>\n",
       "    </tr>\n",
       "    <tr>\n",
       "      <th>3</th>\n",
       "      <td>1577836800</td>\n",
       "      <td>-0.6</td>\n",
       "      <td>97</td>\n",
       "      <td>-1.0</td>\n",
       "      <td>-4.4</td>\n",
       "      <td>0.1</td>\n",
       "      <td>0.0</td>\n",
       "      <td>0.07</td>\n",
       "      <td>0.1</td>\n",
       "      <td>972.2</td>\n",
       "      <td>992.7</td>\n",
       "      <td>100</td>\n",
       "      <td>10.5</td>\n",
       "      <td>22.3</td>\n",
       "      <td>239</td>\n",
       "      <td>-1.6</td>\n",
       "      <td>0.378</td>\n",
       "      <td>0</td>\n",
       "      <td>0.0</td>\n",
       "    </tr>\n",
       "    <tr>\n",
       "      <th>4</th>\n",
       "      <td>1577840400</td>\n",
       "      <td>-0.5</td>\n",
       "      <td>97</td>\n",
       "      <td>-0.9</td>\n",
       "      <td>-4.2</td>\n",
       "      <td>0.2</td>\n",
       "      <td>0.0</td>\n",
       "      <td>0.14</td>\n",
       "      <td>0.1</td>\n",
       "      <td>972.5</td>\n",
       "      <td>993.0</td>\n",
       "      <td>99</td>\n",
       "      <td>10.5</td>\n",
       "      <td>19.8</td>\n",
       "      <td>243</td>\n",
       "      <td>-1.6</td>\n",
       "      <td>0.378</td>\n",
       "      <td>0</td>\n",
       "      <td>0.0</td>\n",
       "    </tr>\n",
       "  </tbody>\n",
       "</table>\n",
       "</div>"
      ],
      "text/plain": [
       "         time  temperature_2m  relative_humidity_2m  dew_point_2m  \\\n",
       "0  1577826000            -0.6                    95          -1.3   \n",
       "1  1577829600            -0.8                    95          -1.4   \n",
       "2  1577833200            -1.0                    96          -1.6   \n",
       "3  1577836800            -0.6                    97          -1.0   \n",
       "4  1577840400            -0.5                    97          -0.9   \n",
       "\n",
       "   apparent_temperature  precipitation  rain  snowfall  snow_depth  \\\n",
       "0                  -5.2            0.1   0.0      0.07         0.1   \n",
       "1                  -5.2            0.3   0.0      0.21         0.1   \n",
       "2                  -5.1            0.3   0.0      0.21         0.1   \n",
       "3                  -4.4            0.1   0.0      0.07         0.1   \n",
       "4                  -4.2            0.2   0.0      0.14         0.1   \n",
       "\n",
       "   surface_pressure  pressure_msl  cloud_cover  wind_speed_10m  \\\n",
       "0             971.4         991.9           99            15.5   \n",
       "1             971.6         992.1           97            14.5   \n",
       "2             971.7         992.2           96            12.1   \n",
       "3             972.2         992.7          100            10.5   \n",
       "4             972.5         993.0           99            10.5   \n",
       "\n",
       "   wind_gusts_10m  wind_direction_10m  soil_temperature_0_to_7cm  \\\n",
       "0            29.5                 234                       -2.2   \n",
       "1            28.8                 235                       -2.2   \n",
       "2            27.0                 233                       -2.2   \n",
       "3            22.3                 239                       -1.6   \n",
       "4            19.8                 243                       -1.6   \n",
       "\n",
       "   soil_moisture_0_to_7cm  is_day  sunshine_duration  \n",
       "0                   0.374       0                0.0  \n",
       "1                   0.374       0                0.0  \n",
       "2                   0.374       0                0.0  \n",
       "3                   0.378       0                0.0  \n",
       "4                   0.378       0                0.0  "
      ]
     },
     "execution_count": 7,
     "metadata": {},
     "output_type": "execute_result"
    }
   ],
   "source": [
    "data.head()"
   ]
  },
  {
   "cell_type": "code",
   "execution_count": 8,
   "id": "49300a7d-f0c6-4b1c-81a6-286779ffdac0",
   "metadata": {},
   "outputs": [],
   "source": [
    "#Температура\n",
    "X_train, X_test, y_train, y_test = split_by_key(data, \"temperature_2m\")\n",
    "result = train_and_predict(predictor, X_train, X_test, y_train, y_test)"
   ]
  },
  {
   "cell_type": "code",
   "execution_count": 9,
   "id": "196e1ee0-b8ea-4a74-9e5c-07ea5e3431e7",
   "metadata": {},
   "outputs": [],
   "source": [
    "from matplotlib import pyplot as plt"
   ]
  },
  {
   "cell_type": "code",
   "execution_count": 10,
   "id": "ff0b5cd3-e32d-4ccc-88c6-7a3be074d3d8",
   "metadata": {},
   "outputs": [
    {
     "name": "stdout",
     "output_type": "stream",
     "text": [
      "{'result': array([-4.475, 23.307, 14.804, ..., -2.221, -9.644,  4.841]), 'r2_score': 0.9997840286325369, 'mean_squared_error': 0.029944545952036106}\n"
     ]
    }
   ],
   "source": [
    "print(result)"
   ]
  },
  {
   "cell_type": "code",
   "execution_count": 11,
   "id": "431bd0ed-a02a-46e2-8fa6-777e45f3c05a",
   "metadata": {},
   "outputs": [
    {
     "data": {
      "text/plain": [
       "array([-4.475, 23.307, 14.804, ..., -2.221, -9.644,  4.841])"
      ]
     },
     "execution_count": 11,
     "metadata": {},
     "output_type": "execute_result"
    }
   ],
   "source": [
    "result['result']"
   ]
  },
  {
   "cell_type": "markdown",
   "id": "601a0ee8-5145-44a5-83c5-e118bfc236ed",
   "metadata": {},
   "source": [
    "## Рассчитываем данные за весь 2024 год для проверки и демонстрации на графике"
   ]
  },
  {
   "cell_type": "code",
   "execution_count": 12,
   "id": "96ac8e5d-8d22-4705-90ac-16acd26eebaf",
   "metadata": {},
   "outputs": [],
   "source": [
    "def get_period(begin, end):\n",
    "    i = j = 0\n",
    "\n",
    "    for k in range(0, len(data['time'])):\n",
    "        if i != 0 and j != 0:\n",
    "            break\n",
    "        if data['time'][k] == begin:\n",
    "            i = k\n",
    "        if data['time'][k] == end:\n",
    "            j = k\n",
    "    return i, j"
   ]
  },
  {
   "cell_type": "code",
   "execution_count": 13,
   "id": "522d325c-766d-4001-a01e-06032b2e7c99",
   "metadata": {},
   "outputs": [],
   "source": [
    "def get_slice(begin, end, key):\n",
    "    i, j = get_period(begin, end)\n",
    "\n",
    "    plot_data = pd.DataFrame.from_dict({'time':data['time'][i:j+1].astype(int), 'key':data[key][i:j+1]}).reset_index(drop=True)\n",
    "    return plot_data"
   ]
  },
  {
   "cell_type": "code",
   "execution_count": 14,
   "id": "70f2e510-1178-4b90-94a9-0c7da8d9f1f3",
   "metadata": {},
   "outputs": [],
   "source": [
    "def get_slice_custom(begin, end, arr):\n",
    "    i, j = get_period(begin, end)\n",
    "\n",
    "    plot_data = pd.DataFrame.from_dict({'time':data['time'][i:j+1].astype(int), 'key':arr}).reset_index(drop=True)\n",
    "    return plot_data"
   ]
  },
  {
   "cell_type": "code",
   "execution_count": 15,
   "id": "33d34cd6-3757-4f4c-8aae-0f66b9369ce0",
   "metadata": {},
   "outputs": [],
   "source": [
    "def plot(plot_dt, color, title):\n",
    "    plot_dt['time'] = [datetime.datetime.fromtimestamp(ts) for ts in plot_dt['time']]\n",
    "    plt.plot(plot_dt['time'].to_numpy(), plot_dt['key'].to_numpy(), color=color)\n",
    "    plt.title(title)\n",
    "    plt.show()"
   ]
  },
  {
   "cell_type": "code",
   "execution_count": 16,
   "id": "0b2c4e41-0e08-4565-a923-d5126984ce3a",
   "metadata": {},
   "outputs": [],
   "source": [
    "import datetime\n",
    "\n",
    "begin = datetime.datetime(2024, 1, 1, 0, 0).timestamp()\n",
    "end = datetime.datetime(2024, 12, 31, 23, 0).timestamp()"
   ]
  },
  {
   "cell_type": "code",
   "execution_count": 17,
   "id": "5a7cb10c-876a-434e-aa10-ea9c5c6647a0",
   "metadata": {},
   "outputs": [
    {
     "data": {
      "text/plain": [
       "1704056400.0"
      ]
     },
     "execution_count": 17,
     "metadata": {},
     "output_type": "execute_result"
    }
   ],
   "source": [
    "begin"
   ]
  },
  {
   "cell_type": "code",
   "execution_count": 18,
   "id": "151209b2-335d-4c28-a1c5-43205437ce34",
   "metadata": {},
   "outputs": [
    {
     "data": {
      "text/html": [
       "<div>\n",
       "<style scoped>\n",
       "    .dataframe tbody tr th:only-of-type {\n",
       "        vertical-align: middle;\n",
       "    }\n",
       "\n",
       "    .dataframe tbody tr th {\n",
       "        vertical-align: top;\n",
       "    }\n",
       "\n",
       "    .dataframe thead th {\n",
       "        text-align: right;\n",
       "    }\n",
       "</style>\n",
       "<table border=\"1\" class=\"dataframe\">\n",
       "  <thead>\n",
       "    <tr style=\"text-align: right;\">\n",
       "      <th></th>\n",
       "      <th>time</th>\n",
       "      <th>key</th>\n",
       "    </tr>\n",
       "  </thead>\n",
       "  <tbody>\n",
       "    <tr>\n",
       "      <th>0</th>\n",
       "      <td>1704056400</td>\n",
       "      <td>-10.1</td>\n",
       "    </tr>\n",
       "    <tr>\n",
       "      <th>1</th>\n",
       "      <td>1704060000</td>\n",
       "      <td>-10.5</td>\n",
       "    </tr>\n",
       "    <tr>\n",
       "      <th>2</th>\n",
       "      <td>1704063600</td>\n",
       "      <td>-11.0</td>\n",
       "    </tr>\n",
       "    <tr>\n",
       "      <th>3</th>\n",
       "      <td>1704067200</td>\n",
       "      <td>-11.5</td>\n",
       "    </tr>\n",
       "    <tr>\n",
       "      <th>4</th>\n",
       "      <td>1704070800</td>\n",
       "      <td>-10.7</td>\n",
       "    </tr>\n",
       "  </tbody>\n",
       "</table>\n",
       "</div>"
      ],
      "text/plain": [
       "         time   key\n",
       "0  1704056400 -10.1\n",
       "1  1704060000 -10.5\n",
       "2  1704063600 -11.0\n",
       "3  1704067200 -11.5\n",
       "4  1704070800 -10.7"
      ]
     },
     "execution_count": 18,
     "metadata": {},
     "output_type": "execute_result"
    }
   ],
   "source": [
    "plot_data = get_slice(begin, end, 'temperature_2m')\n",
    "plot_data.head()"
   ]
  },
  {
   "cell_type": "code",
   "execution_count": 19,
   "id": "1650a1ee-674c-4a93-8eb8-6ebf29857d68",
   "metadata": {},
   "outputs": [
    {
     "data": {
      "image/png": "[encoded data removed]",
      "text/plain": [
       "<Figure size 640x480 with 1 Axes>"
      ]
     },
     "metadata": {},
     "output_type": "display_data"
    }
   ],
   "source": [
    "plot(plot_data, 'green', 'True temperature graph')"
   ]
  },
  {
   "cell_type": "code",
   "execution_count": 20,
   "id": "46e9fc4f-8668-44b6-80bc-b7177f530318",
   "metadata": {},
   "outputs": [],
   "source": [
    "temp_predict = predictor.predict(data.drop('temperature_2m', axis=1))"
   ]
  },
  {
   "cell_type": "code",
   "execution_count": 21,
   "id": "fb35c876-6fba-4bbb-acb5-7a674673e126",
   "metadata": {},
   "outputs": [
    {
     "data": {
      "text/html": [
       "<div>\n",
       "<style scoped>\n",
       "    .dataframe tbody tr th:only-of-type {\n",
       "        vertical-align: middle;\n",
       "    }\n",
       "\n",
       "    .dataframe tbody tr th {\n",
       "        vertical-align: top;\n",
       "    }\n",
       "\n",
       "    .dataframe thead th {\n",
       "        text-align: right;\n",
       "    }\n",
       "</style>\n",
       "<table border=\"1\" class=\"dataframe\">\n",
       "  <thead>\n",
       "    <tr style=\"text-align: right;\">\n",
       "      <th></th>\n",
       "      <th>time</th>\n",
       "      <th>key</th>\n",
       "    </tr>\n",
       "  </thead>\n",
       "  <tbody>\n",
       "    <tr>\n",
       "      <th>0</th>\n",
       "      <td>1704056400</td>\n",
       "      <td>-10.120</td>\n",
       "    </tr>\n",
       "    <tr>\n",
       "      <th>1</th>\n",
       "      <td>1704060000</td>\n",
       "      <td>-10.542</td>\n",
       "    </tr>\n",
       "    <tr>\n",
       "      <th>2</th>\n",
       "      <td>1704063600</td>\n",
       "      <td>-11.006</td>\n",
       "    </tr>\n",
       "    <tr>\n",
       "      <th>3</th>\n",
       "      <td>1704067200</td>\n",
       "      <td>-11.517</td>\n",
       "    </tr>\n",
       "    <tr>\n",
       "      <th>4</th>\n",
       "      <td>1704070800</td>\n",
       "      <td>-10.687</td>\n",
       "    </tr>\n",
       "  </tbody>\n",
       "</table>\n",
       "</div>"
      ],
      "text/plain": [
       "         time     key\n",
       "0  1704056400 -10.120\n",
       "1  1704060000 -10.542\n",
       "2  1704063600 -11.006\n",
       "3  1704067200 -11.517\n",
       "4  1704070800 -10.687"
      ]
     },
     "execution_count": 21,
     "metadata": {},
     "output_type": "execute_result"
    }
   ],
   "source": [
    "#plot_predict = pd.DataFrame.from_dict({'time':data['time'][i:j+1].astype(int), 'key':temp_predict}).reset_index(drop=True)\n",
    "i, j = get_period(begin, end)\n",
    "plot_predict = get_slice_custom(begin, end, temp_predict[i:j+1])\n",
    "plot_predict.head()"
   ]
  },
  {
   "cell_type": "code",
   "execution_count": 22,
   "id": "5eb8ce31-aa25-4ec7-872f-51f3c5040740",
   "metadata": {},
   "outputs": [
    {
     "data": {
      "image/png": "[encoded data removed]",
      "text/plain": [
       "<Figure size 640x480 with 1 Axes>"
      ]
     },
     "metadata": {},
     "output_type": "display_data"
    }
   ],
   "source": [
    "plot(plot_predict, 'blue', 'True temperature graph')"
   ]
  },
  {
   "cell_type": "code",
   "execution_count": 23,
   "id": "ef6b2959-8a53-4307-a43c-846207245cb1",
   "metadata": {},
   "outputs": [
    {
     "data": {
      "image/png": "[encoded data removed]",
      "text/plain": [
       "<Figure size 640x480 with 1 Axes>"
      ]
     },
     "metadata": {},
     "output_type": "display_data"
    }
   ],
   "source": [
    "plt.plot(plot_predict['time'].to_numpy(), (plot_predict['key'].to_numpy()) - (plot_data['key'].to_numpy()), color='red')\n",
    "plt.title('Error')\n",
    "plt.show()"
   ]
  },
  {
   "cell_type": "code",
   "execution_count": 24,
   "id": "dacdca2c-f919-46e3-ae0c-514cbc4df1d1",
   "metadata": {},
   "outputs": [
    {
     "name": "stdout",
     "output_type": "stream",
     "text": [
      "R2 Score:  0.9997840286325369\n",
      "Mean Squared Error:  0.029944545952036106\n"
     ]
    }
   ],
   "source": [
    "print(\"R2 Score: \",result['r2_score'])\n",
    "print(\"Mean Squared Error: \",result['mean_squared_error'])"
   ]
  }
 ],
 "metadata": {
  "kernelspec": {
   "display_name": "Python 3 (ipykernel)",
   "language": "python",
   "name": "python3"
  },
  "language_info": {
   "codemirror_mode": {
    "name": "ipython",
    "version": 3
   },
   "file_extension": ".py",
   "mimetype": "text/x-python",
   "name": "python",
   "nbconvert_exporter": "python",
   "pygments_lexer": "ipython3",
   "version": "3.10.12"
  }
 },
 "nbformat": 4,
 "nbformat_minor": 5
}
